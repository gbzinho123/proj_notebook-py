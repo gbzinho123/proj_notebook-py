{
  "metadata": {
    "language_info": {
      "codemirror_mode": {
        "name": "python",
        "version": 3
      },
      "file_extension": ".py",
      "mimetype": "text/x-python",
      "name": "python",
      "nbconvert_exporter": "python",
      "pygments_lexer": "ipython3",
      "version": "3.8"
    },
    "kernelspec": {
      "name": "python",
      "display_name": "Python (Pyodide)",
      "language": "python"
    }
  },
  "nbformat_minor": 4,
  "nbformat": 4,
  "cells": [
    {
      "cell_type": "markdown",
      "source": "01 -Crie um programa que conte de zero até cinco",
      "metadata": {}
    },
    {
      "cell_type": "code",
      "source": "x = 0\nwhile (x<=5):\n    print(x)\n    x += 1",
      "metadata": {
        "trusted": true
      },
      "execution_count": 3,
      "outputs": [
        {
          "name": "stdout",
          "text": "0\n1\n2\n3\n4\n5\n",
          "output_type": "stream"
        }
      ]
    },
    {
      "cell_type": "markdown",
      "source": "02 - crie uma lista com cinco nomes e mostre cada um e seus respectivos numeros",
      "metadata": {}
    },
    {
      "cell_type": "code",
      "source": "nome = []\nnome=[\n   \"reinaldo\",\n   \"marcos leonardo\",\n   \"pedro\",\n   \"daniel alves\",\n   \"cassio\"]\nx=0\nwhile(x<=4):\n    print(x,nome[x])\n    x += 1",
      "metadata": {
        "trusted": true
      },
      "execution_count": 2,
      "outputs": [
        {
          "name": "stdout",
          "text": "0 reinaldo\n1 marcos leonardo\n2 pedro\n3 daniel alves\n4 cassio\n",
          "output_type": "stream"
        }
      ]
    },
    {
      "cell_type": "markdown",
      "source": "03 - crie uma lista com cinco nomes e organize de modo alfabetico mostrando os seus respectivos numeros",
      "metadata": {}
    },
    {
      "cell_type": "code",
      "source": "nome = []\nnome=[\n   \"reinaldo\",\n   \"marcos leonardo\",\n   \"pedro\",\n   \"daniel alves\",\n   \"cassio\"]\nnome.sort()\nx=0\nwhile(x<=4):\n    print(x,nome[x])\n    x += 1",
      "metadata": {
        "trusted": true
      },
      "execution_count": 3,
      "outputs": [
        {
          "name": "stdout",
          "text": "0 cassio\n1 daniel alves\n2 marcos leonardo\n3 pedro\n4 reinaldo\n",
          "output_type": "stream"
        }
      ]
    },
    {
      "cell_type": "markdown",
      "source": "",
      "metadata": {}
    }
  ]
}