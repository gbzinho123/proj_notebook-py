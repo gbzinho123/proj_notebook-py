{
  "metadata": {
    "language_info": {
      "codemirror_mode": {
        "name": "python",
        "version": 3
      },
      "file_extension": ".py",
      "mimetype": "text/x-python",
      "name": "python",
      "nbconvert_exporter": "python",
      "pygments_lexer": "ipython3",
      "version": "3.8"
    },
    "kernelspec": {
      "name": "python",
      "display_name": "Python (Pyodide)",
      "language": "python"
    }
  },
  "nbformat_minor": 4,
  "nbformat": 4,
  "cells": [
    {
      "cell_type": "markdown",
      "source": "01 - crie uma lista com quatro nomes, quatro endereços e quatro telefones.Mostre a lista de forma formatada",
      "metadata": {}
    },
    {
      "cell_type": "code",
      "source": "nome=[\n    \"Neymar\",\n    \"Rogerio \",\n    \"Marcos\",\n    \"Davi luis\"\n    ]\nidade=[\n   17,20,50,50\n    ]\nfone=[\n    \"99940-7070\",\n    \"93729-6060\",\n    \"97425-2020\",\n    \"97242-2034\"\n    ]\nx = 0\nprint(\"{:<12}{:<7}{:<0}\".format(\"Nome\",\"Idade\",\"Telefone\"))\nprint(\"-----------------------------\")\nwhile(x<=3):\n    print(\"{:<12}{:<7}{:<0}\".format(nome[x],idade[x],fone[x]))\n    x += 1\n",
      "metadata": {
        "trusted": true
      },
      "execution_count": 6,
      "outputs": [
        {
          "name": "stdout",
          "text": "Nome        Idade  Telefone\n-----------------------------\nNeymar      17     99940-7070\nRogerio     20     93729-6060\nMarcos      50     97425-2020\nDavi luis   50     97242-2034\n",
          "output_type": "stream"
        }
      ]
    },
    {
      "cell_type": "markdown",
      "source": "02 - crie um programa que mostre tre endereços, tres numeros, tres bairros e tres cidades\n",
      "metadata": {}
    },
    {
      "cell_type": "code",
      "source": "ruas=[\n    \"Rua são joaquim\",\n    \"Rua são gonçalves\",\n    \"Rua são lourenço\"\n    ]\nnumeros=[\n   156,756,342\n    ]\nbairros=[\n    \" Bom Retiro\",\n    \" São João\",\n    \" Vila Martins\"\n    ]\ncidades=[\n    \"Salto\",\n    \"Itu\",\n    \"Indaiatuba\"\n    ]\nx = 0\nprint(\"|{:<18}|{:<10}|{:<17}|{:<0}\".format(\"ruas\",\"numeros\",\"bairros\",\"cidades\"))\nprint(\"|------------------|----------|-----------------|---------------------------\")\nwhile(x<=2):\n    print(\"|{:<18}|{:<10}|{:<17}|{:<0}\".format(ruas[x],numeros[x],bairros[x],cidades[x]))\n    x += 1",
      "metadata": {
        "trusted": true
      },
      "execution_count": 52,
      "outputs": [
        {
          "name": "stdout",
          "text": "|ruas              |numeros   |bairros          |cidades\n|------------------|----------|-----------------|---------------------------\n|Rua são joaquim   |156       | Bom Retiro      |Salto\n|Rua são gonçalves |756       | São João        |Itu\n|Rua são lourenço  |342       | Vila Martins    |Indaiatuba\n",
          "output_type": "stream"
        }
      ]
    },
    {
      "cell_type": "code",
      "source": "",
      "metadata": {},
      "execution_count": null,
      "outputs": []
    }
  ]
}